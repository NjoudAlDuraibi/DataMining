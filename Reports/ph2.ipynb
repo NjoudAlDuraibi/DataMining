{
  "nbformat": 4,
  "nbformat_minor": 0,
  "metadata": {
    "colab": {
      "provenance": []
    },
    "kernelspec": {
      "name": "python3",
      "display_name": "Python 3"
    },
    "language_info": {
      "name": "python"
    }
  },
  "cells": [
    {
      "cell_type": "markdown",
      "source": [
        "**Phase2**\n"
      ],
      "metadata": {
        "id": "o6Cq-EFad03j"
      }
    },
    {
      "cell_type": "code",
      "source": [
        "import pandas as pd\n",
        "data= pd.read_csv('./Dataset/Mobile_data.csv')\n",
        "df=pd.DataFrame(data)"
      ],
      "metadata": {
        "id": "pAwac6Kv4NNb"
      },
      "execution_count": null,
      "outputs": []
    },
    {
      "cell_type": "code",
      "source": [
        "df.info()"
      ],
      "metadata": {
        "colab": {
          "base_uri": "https://localhost:8080/"
        },
        "id": "wKC2Wah80Gya",
        "outputId": "a3f9dabc-c716-43d8-f9aa-8eee928f3112"
      },
      "execution_count": null,
      "outputs": [
        {
          "output_type": "stream",
          "name": "stdout",
          "text": [
            "<class 'pandas.core.frame.DataFrame'>\n",
            "RangeIndex: 2000 entries, 0 to 1999\n",
            "Data columns (total 21 columns):\n",
            " #   Column         Non-Null Count  Dtype  \n",
            "---  ------         --------------  -----  \n",
            " 0   battery_power  2000 non-null   int64  \n",
            " 1   blue           2000 non-null   int64  \n",
            " 2   clock_speed    2000 non-null   float64\n",
            " 3   dual_sim       2000 non-null   int64  \n",
            " 4   fc             2000 non-null   int64  \n",
            " 5   four_g         2000 non-null   int64  \n",
            " 6   int_memory     2000 non-null   int64  \n",
            " 7   m_dep          2000 non-null   float64\n",
            " 8   mobile_wt      2000 non-null   int64  \n",
            " 9   n_cores        2000 non-null   int64  \n",
            " 10  pc             2000 non-null   int64  \n",
            " 11  px_height      2000 non-null   int64  \n",
            " 12  px_width       2000 non-null   int64  \n",
            " 13  ram            2000 non-null   int64  \n",
            " 14  sc_h           2000 non-null   int64  \n",
            " 15  sc_w           2000 non-null   int64  \n",
            " 16  talk_time      2000 non-null   int64  \n",
            " 17  three_g        2000 non-null   int64  \n",
            " 18  touch_screen   2000 non-null   int64  \n",
            " 19  wifi           2000 non-null   int64  \n",
            " 20  price_range    2000 non-null   int64  \n",
            "dtypes: float64(2), int64(19)\n",
            "memory usage: 328.2 KB\n"
          ]
        }
      ]
    },
    {
      "cell_type": "code",
      "source": [
        "\n",
        "df.describe()"
      ],
      "metadata": {
        "id": "OGPQMwMvcjX1",
        "outputId": "38acd132-d78e-40b7-a941-2bc3d139af8a",
        "colab": {
          "base_uri": "https://localhost:8080/",
          "height": 346
        }
      },
      "execution_count": null,
      "outputs": [
        {
          "output_type": "execute_result",
          "data": {
            "text/plain": [
              "       battery_power       blue  clock_speed     dual_sim           fc  \\\n",
              "count    2000.000000  2000.0000  2000.000000  2000.000000  2000.000000   \n",
              "mean     1238.518500     0.4950     1.522250     0.509500     4.309500   \n",
              "std       439.418206     0.5001     0.816004     0.500035     4.341444   \n",
              "min       501.000000     0.0000     0.500000     0.000000     0.000000   \n",
              "25%       851.750000     0.0000     0.700000     0.000000     1.000000   \n",
              "50%      1226.000000     0.0000     1.500000     1.000000     3.000000   \n",
              "75%      1615.250000     1.0000     2.200000     1.000000     7.000000   \n",
              "max      1998.000000     1.0000     3.000000     1.000000    19.000000   \n",
              "\n",
              "            four_g   int_memory        m_dep    mobile_wt      n_cores  ...  \\\n",
              "count  2000.000000  2000.000000  2000.000000  2000.000000  2000.000000  ...   \n",
              "mean      0.521500    32.046500     0.501750   140.249000     4.520500  ...   \n",
              "std       0.499662    18.145715     0.288416    35.399655     2.287837  ...   \n",
              "min       0.000000     2.000000     0.100000    80.000000     1.000000  ...   \n",
              "25%       0.000000    16.000000     0.200000   109.000000     3.000000  ...   \n",
              "50%       1.000000    32.000000     0.500000   141.000000     4.000000  ...   \n",
              "75%       1.000000    48.000000     0.800000   170.000000     7.000000  ...   \n",
              "max       1.000000    64.000000     1.000000   200.000000     8.000000  ...   \n",
              "\n",
              "         px_height     px_width          ram         sc_h         sc_w  \\\n",
              "count  2000.000000  2000.000000  2000.000000  2000.000000  2000.000000   \n",
              "mean    645.108000  1251.515500  2124.213000    12.306500     5.767000   \n",
              "std     443.780811   432.199447  1084.732044     4.213245     4.356398   \n",
              "min       0.000000   500.000000   256.000000     5.000000     0.000000   \n",
              "25%     282.750000   874.750000  1207.500000     9.000000     2.000000   \n",
              "50%     564.000000  1247.000000  2146.500000    12.000000     5.000000   \n",
              "75%     947.250000  1633.000000  3064.500000    16.000000     9.000000   \n",
              "max    1960.000000  1998.000000  3998.000000    19.000000    18.000000   \n",
              "\n",
              "         talk_time      three_g  touch_screen         wifi  price_range  \n",
              "count  2000.000000  2000.000000   2000.000000  2000.000000  2000.000000  \n",
              "mean     11.011000     0.761500      0.503000     0.507000     1.500000  \n",
              "std       5.463955     0.426273      0.500116     0.500076     1.118314  \n",
              "min       2.000000     0.000000      0.000000     0.000000     0.000000  \n",
              "25%       6.000000     1.000000      0.000000     0.000000     0.750000  \n",
              "50%      11.000000     1.000000      1.000000     1.000000     1.500000  \n",
              "75%      16.000000     1.000000      1.000000     1.000000     2.250000  \n",
              "max      20.000000     1.000000      1.000000     1.000000     3.000000  \n",
              "\n",
              "[8 rows x 21 columns]"
            ],
            "text/html": [
              "\n",
              "  <div id=\"df-facafa87-b5ba-479d-b44d-9569e58ac9da\" class=\"colab-df-container\">\n",
              "    <div>\n",
              "<style scoped>\n",
              "    .dataframe tbody tr th:only-of-type {\n",
              "        vertical-align: middle;\n",
              "    }\n",
              "\n",
              "    .dataframe tbody tr th {\n",
              "        vertical-align: top;\n",
              "    }\n",
              "\n",
              "    .dataframe thead th {\n",
              "        text-align: right;\n",
              "    }\n",
              "</style>\n",
              "<table border=\"1\" class=\"dataframe\">\n",
              "  <thead>\n",
              "    <tr style=\"text-align: right;\">\n",
              "      <th></th>\n",
              "      <th>battery_power</th>\n",
              "      <th>blue</th>\n",
              "      <th>clock_speed</th>\n",
              "      <th>dual_sim</th>\n",
              "      <th>fc</th>\n",
              "      <th>four_g</th>\n",
              "      <th>int_memory</th>\n",
              "      <th>m_dep</th>\n",
              "      <th>mobile_wt</th>\n",
              "      <th>n_cores</th>\n",
              "      <th>...</th>\n",
              "      <th>px_height</th>\n",
              "      <th>px_width</th>\n",
              "      <th>ram</th>\n",
              "      <th>sc_h</th>\n",
              "      <th>sc_w</th>\n",
              "      <th>talk_time</th>\n",
              "      <th>three_g</th>\n",
              "      <th>touch_screen</th>\n",
              "      <th>wifi</th>\n",
              "      <th>price_range</th>\n",
              "    </tr>\n",
              "  </thead>\n",
              "  <tbody>\n",
              "    <tr>\n",
              "      <th>count</th>\n",
              "      <td>2000.000000</td>\n",
              "      <td>2000.0000</td>\n",
              "      <td>2000.000000</td>\n",
              "      <td>2000.000000</td>\n",
              "      <td>2000.000000</td>\n",
              "      <td>2000.000000</td>\n",
              "      <td>2000.000000</td>\n",
              "      <td>2000.000000</td>\n",
              "      <td>2000.000000</td>\n",
              "      <td>2000.000000</td>\n",
              "      <td>...</td>\n",
              "      <td>2000.000000</td>\n",
              "      <td>2000.000000</td>\n",
              "      <td>2000.000000</td>\n",
              "      <td>2000.000000</td>\n",
              "      <td>2000.000000</td>\n",
              "      <td>2000.000000</td>\n",
              "      <td>2000.000000</td>\n",
              "      <td>2000.000000</td>\n",
              "      <td>2000.000000</td>\n",
              "      <td>2000.000000</td>\n",
              "    </tr>\n",
              "    <tr>\n",
              "      <th>mean</th>\n",
              "      <td>1238.518500</td>\n",
              "      <td>0.4950</td>\n",
              "      <td>1.522250</td>\n",
              "      <td>0.509500</td>\n",
              "      <td>4.309500</td>\n",
              "      <td>0.521500</td>\n",
              "      <td>32.046500</td>\n",
              "      <td>0.501750</td>\n",
              "      <td>140.249000</td>\n",
              "      <td>4.520500</td>\n",
              "      <td>...</td>\n",
              "      <td>645.108000</td>\n",
              "      <td>1251.515500</td>\n",
              "      <td>2124.213000</td>\n",
              "      <td>12.306500</td>\n",
              "      <td>5.767000</td>\n",
              "      <td>11.011000</td>\n",
              "      <td>0.761500</td>\n",
              "      <td>0.503000</td>\n",
              "      <td>0.507000</td>\n",
              "      <td>1.500000</td>\n",
              "    </tr>\n",
              "    <tr>\n",
              "      <th>std</th>\n",
              "      <td>439.418206</td>\n",
              "      <td>0.5001</td>\n",
              "      <td>0.816004</td>\n",
              "      <td>0.500035</td>\n",
              "      <td>4.341444</td>\n",
              "      <td>0.499662</td>\n",
              "      <td>18.145715</td>\n",
              "      <td>0.288416</td>\n",
              "      <td>35.399655</td>\n",
              "      <td>2.287837</td>\n",
              "      <td>...</td>\n",
              "      <td>443.780811</td>\n",
              "      <td>432.199447</td>\n",
              "      <td>1084.732044</td>\n",
              "      <td>4.213245</td>\n",
              "      <td>4.356398</td>\n",
              "      <td>5.463955</td>\n",
              "      <td>0.426273</td>\n",
              "      <td>0.500116</td>\n",
              "      <td>0.500076</td>\n",
              "      <td>1.118314</td>\n",
              "    </tr>\n",
              "    <tr>\n",
              "      <th>min</th>\n",
              "      <td>501.000000</td>\n",
              "      <td>0.0000</td>\n",
              "      <td>0.500000</td>\n",
              "      <td>0.000000</td>\n",
              "      <td>0.000000</td>\n",
              "      <td>0.000000</td>\n",
              "      <td>2.000000</td>\n",
              "      <td>0.100000</td>\n",
              "      <td>80.000000</td>\n",
              "      <td>1.000000</td>\n",
              "      <td>...</td>\n",
              "      <td>0.000000</td>\n",
              "      <td>500.000000</td>\n",
              "      <td>256.000000</td>\n",
              "      <td>5.000000</td>\n",
              "      <td>0.000000</td>\n",
              "      <td>2.000000</td>\n",
              "      <td>0.000000</td>\n",
              "      <td>0.000000</td>\n",
              "      <td>0.000000</td>\n",
              "      <td>0.000000</td>\n",
              "    </tr>\n",
              "    <tr>\n",
              "      <th>25%</th>\n",
              "      <td>851.750000</td>\n",
              "      <td>0.0000</td>\n",
              "      <td>0.700000</td>\n",
              "      <td>0.000000</td>\n",
              "      <td>1.000000</td>\n",
              "      <td>0.000000</td>\n",
              "      <td>16.000000</td>\n",
              "      <td>0.200000</td>\n",
              "      <td>109.000000</td>\n",
              "      <td>3.000000</td>\n",
              "      <td>...</td>\n",
              "      <td>282.750000</td>\n",
              "      <td>874.750000</td>\n",
              "      <td>1207.500000</td>\n",
              "      <td>9.000000</td>\n",
              "      <td>2.000000</td>\n",
              "      <td>6.000000</td>\n",
              "      <td>1.000000</td>\n",
              "      <td>0.000000</td>\n",
              "      <td>0.000000</td>\n",
              "      <td>0.750000</td>\n",
              "    </tr>\n",
              "    <tr>\n",
              "      <th>50%</th>\n",
              "      <td>1226.000000</td>\n",
              "      <td>0.0000</td>\n",
              "      <td>1.500000</td>\n",
              "      <td>1.000000</td>\n",
              "      <td>3.000000</td>\n",
              "      <td>1.000000</td>\n",
              "      <td>32.000000</td>\n",
              "      <td>0.500000</td>\n",
              "      <td>141.000000</td>\n",
              "      <td>4.000000</td>\n",
              "      <td>...</td>\n",
              "      <td>564.000000</td>\n",
              "      <td>1247.000000</td>\n",
              "      <td>2146.500000</td>\n",
              "      <td>12.000000</td>\n",
              "      <td>5.000000</td>\n",
              "      <td>11.000000</td>\n",
              "      <td>1.000000</td>\n",
              "      <td>1.000000</td>\n",
              "      <td>1.000000</td>\n",
              "      <td>1.500000</td>\n",
              "    </tr>\n",
              "    <tr>\n",
              "      <th>75%</th>\n",
              "      <td>1615.250000</td>\n",
              "      <td>1.0000</td>\n",
              "      <td>2.200000</td>\n",
              "      <td>1.000000</td>\n",
              "      <td>7.000000</td>\n",
              "      <td>1.000000</td>\n",
              "      <td>48.000000</td>\n",
              "      <td>0.800000</td>\n",
              "      <td>170.000000</td>\n",
              "      <td>7.000000</td>\n",
              "      <td>...</td>\n",
              "      <td>947.250000</td>\n",
              "      <td>1633.000000</td>\n",
              "      <td>3064.500000</td>\n",
              "      <td>16.000000</td>\n",
              "      <td>9.000000</td>\n",
              "      <td>16.000000</td>\n",
              "      <td>1.000000</td>\n",
              "      <td>1.000000</td>\n",
              "      <td>1.000000</td>\n",
              "      <td>2.250000</td>\n",
              "    </tr>\n",
              "    <tr>\n",
              "      <th>max</th>\n",
              "      <td>1998.000000</td>\n",
              "      <td>1.0000</td>\n",
              "      <td>3.000000</td>\n",
              "      <td>1.000000</td>\n",
              "      <td>19.000000</td>\n",
              "      <td>1.000000</td>\n",
              "      <td>64.000000</td>\n",
              "      <td>1.000000</td>\n",
              "      <td>200.000000</td>\n",
              "      <td>8.000000</td>\n",
              "      <td>...</td>\n",
              "      <td>1960.000000</td>\n",
              "      <td>1998.000000</td>\n",
              "      <td>3998.000000</td>\n",
              "      <td>19.000000</td>\n",
              "      <td>18.000000</td>\n",
              "      <td>20.000000</td>\n",
              "      <td>1.000000</td>\n",
              "      <td>1.000000</td>\n",
              "      <td>1.000000</td>\n",
              "      <td>3.000000</td>\n",
              "    </tr>\n",
              "  </tbody>\n",
              "</table>\n",
              "<p>8 rows × 21 columns</p>\n",
              "</div>\n",
              "    <div class=\"colab-df-buttons\">\n",
              "\n",
              "  <div class=\"colab-df-container\">\n",
              "    <button class=\"colab-df-convert\" onclick=\"convertToInteractive('df-facafa87-b5ba-479d-b44d-9569e58ac9da')\"\n",
              "            title=\"Convert this dataframe to an interactive table.\"\n",
              "            style=\"display:none;\">\n",
              "\n",
              "  <svg xmlns=\"http://www.w3.org/2000/svg\" height=\"24px\" viewBox=\"0 -960 960 960\">\n",
              "    <path d=\"M120-120v-720h720v720H120Zm60-500h600v-160H180v160Zm220 220h160v-160H400v160Zm0 220h160v-160H400v160ZM180-400h160v-160H180v160Zm440 0h160v-160H620v160ZM180-180h160v-160H180v160Zm440 0h160v-160H620v160Z\"/>\n",
              "  </svg>\n",
              "    </button>\n",
              "\n",
              "  <style>\n",
              "    .colab-df-container {\n",
              "      display:flex;\n",
              "      gap: 12px;\n",
              "    }\n",
              "\n",
              "    .colab-df-convert {\n",
              "      background-color: #E8F0FE;\n",
              "      border: none;\n",
              "      border-radius: 50%;\n",
              "      cursor: pointer;\n",
              "      display: none;\n",
              "      fill: #1967D2;\n",
              "      height: 32px;\n",
              "      padding: 0 0 0 0;\n",
              "      width: 32px;\n",
              "    }\n",
              "\n",
              "    .colab-df-convert:hover {\n",
              "      background-color: #E2EBFA;\n",
              "      box-shadow: 0px 1px 2px rgba(60, 64, 67, 0.3), 0px 1px 3px 1px rgba(60, 64, 67, 0.15);\n",
              "      fill: #174EA6;\n",
              "    }\n",
              "\n",
              "    .colab-df-buttons div {\n",
              "      margin-bottom: 4px;\n",
              "    }\n",
              "\n",
              "    [theme=dark] .colab-df-convert {\n",
              "      background-color: #3B4455;\n",
              "      fill: #D2E3FC;\n",
              "    }\n",
              "\n",
              "    [theme=dark] .colab-df-convert:hover {\n",
              "      background-color: #434B5C;\n",
              "      box-shadow: 0px 1px 3px 1px rgba(0, 0, 0, 0.15);\n",
              "      filter: drop-shadow(0px 1px 2px rgba(0, 0, 0, 0.3));\n",
              "      fill: #FFFFFF;\n",
              "    }\n",
              "  </style>\n",
              "\n",
              "    <script>\n",
              "      const buttonEl =\n",
              "        document.querySelector('#df-facafa87-b5ba-479d-b44d-9569e58ac9da button.colab-df-convert');\n",
              "      buttonEl.style.display =\n",
              "        google.colab.kernel.accessAllowed ? 'block' : 'none';\n",
              "\n",
              "      async function convertToInteractive(key) {\n",
              "        const element = document.querySelector('#df-facafa87-b5ba-479d-b44d-9569e58ac9da');\n",
              "        const dataTable =\n",
              "          await google.colab.kernel.invokeFunction('convertToInteractive',\n",
              "                                                    [key], {});\n",
              "        if (!dataTable) return;\n",
              "\n",
              "        const docLinkHtml = 'Like what you see? Visit the ' +\n",
              "          '<a target=\"_blank\" href=https://colab.research.google.com/notebooks/data_table.ipynb>data table notebook</a>'\n",
              "          + ' to learn more about interactive tables.';\n",
              "        element.innerHTML = '';\n",
              "        dataTable['output_type'] = 'display_data';\n",
              "        await google.colab.output.renderOutput(dataTable, element);\n",
              "        const docLink = document.createElement('div');\n",
              "        docLink.innerHTML = docLinkHtml;\n",
              "        element.appendChild(docLink);\n",
              "      }\n",
              "    </script>\n",
              "  </div>\n",
              "\n",
              "\n",
              "<div id=\"df-f7bbdb1a-8ba3-40a8-9603-81c84fd1dd76\">\n",
              "  <button class=\"colab-df-quickchart\" onclick=\"quickchart('df-f7bbdb1a-8ba3-40a8-9603-81c84fd1dd76')\"\n",
              "            title=\"Suggest charts\"\n",
              "            style=\"display:none;\">\n",
              "\n",
              "<svg xmlns=\"http://www.w3.org/2000/svg\" height=\"24px\"viewBox=\"0 0 24 24\"\n",
              "     width=\"24px\">\n",
              "    <g>\n",
              "        <path d=\"M19 3H5c-1.1 0-2 .9-2 2v14c0 1.1.9 2 2 2h14c1.1 0 2-.9 2-2V5c0-1.1-.9-2-2-2zM9 17H7v-7h2v7zm4 0h-2V7h2v10zm4 0h-2v-4h2v4z\"/>\n",
              "    </g>\n",
              "</svg>\n",
              "  </button>\n",
              "\n",
              "<style>\n",
              "  .colab-df-quickchart {\n",
              "      --bg-color: #E8F0FE;\n",
              "      --fill-color: #1967D2;\n",
              "      --hover-bg-color: #E2EBFA;\n",
              "      --hover-fill-color: #174EA6;\n",
              "      --disabled-fill-color: #AAA;\n",
              "      --disabled-bg-color: #DDD;\n",
              "  }\n",
              "\n",
              "  [theme=dark] .colab-df-quickchart {\n",
              "      --bg-color: #3B4455;\n",
              "      --fill-color: #D2E3FC;\n",
              "      --hover-bg-color: #434B5C;\n",
              "      --hover-fill-color: #FFFFFF;\n",
              "      --disabled-bg-color: #3B4455;\n",
              "      --disabled-fill-color: #666;\n",
              "  }\n",
              "\n",
              "  .colab-df-quickchart {\n",
              "    background-color: var(--bg-color);\n",
              "    border: none;\n",
              "    border-radius: 50%;\n",
              "    cursor: pointer;\n",
              "    display: none;\n",
              "    fill: var(--fill-color);\n",
              "    height: 32px;\n",
              "    padding: 0;\n",
              "    width: 32px;\n",
              "  }\n",
              "\n",
              "  .colab-df-quickchart:hover {\n",
              "    background-color: var(--hover-bg-color);\n",
              "    box-shadow: 0 1px 2px rgba(60, 64, 67, 0.3), 0 1px 3px 1px rgba(60, 64, 67, 0.15);\n",
              "    fill: var(--button-hover-fill-color);\n",
              "  }\n",
              "\n",
              "  .colab-df-quickchart-complete:disabled,\n",
              "  .colab-df-quickchart-complete:disabled:hover {\n",
              "    background-color: var(--disabled-bg-color);\n",
              "    fill: var(--disabled-fill-color);\n",
              "    box-shadow: none;\n",
              "  }\n",
              "\n",
              "  .colab-df-spinner {\n",
              "    border: 2px solid var(--fill-color);\n",
              "    border-color: transparent;\n",
              "    border-bottom-color: var(--fill-color);\n",
              "    animation:\n",
              "      spin 1s steps(1) infinite;\n",
              "  }\n",
              "\n",
              "  @keyframes spin {\n",
              "    0% {\n",
              "      border-color: transparent;\n",
              "      border-bottom-color: var(--fill-color);\n",
              "      border-left-color: var(--fill-color);\n",
              "    }\n",
              "    20% {\n",
              "      border-color: transparent;\n",
              "      border-left-color: var(--fill-color);\n",
              "      border-top-color: var(--fill-color);\n",
              "    }\n",
              "    30% {\n",
              "      border-color: transparent;\n",
              "      border-left-color: var(--fill-color);\n",
              "      border-top-color: var(--fill-color);\n",
              "      border-right-color: var(--fill-color);\n",
              "    }\n",
              "    40% {\n",
              "      border-color: transparent;\n",
              "      border-right-color: var(--fill-color);\n",
              "      border-top-color: var(--fill-color);\n",
              "    }\n",
              "    60% {\n",
              "      border-color: transparent;\n",
              "      border-right-color: var(--fill-color);\n",
              "    }\n",
              "    80% {\n",
              "      border-color: transparent;\n",
              "      border-right-color: var(--fill-color);\n",
              "      border-bottom-color: var(--fill-color);\n",
              "    }\n",
              "    90% {\n",
              "      border-color: transparent;\n",
              "      border-bottom-color: var(--fill-color);\n",
              "    }\n",
              "  }\n",
              "</style>\n",
              "\n",
              "  <script>\n",
              "    async function quickchart(key) {\n",
              "      const quickchartButtonEl =\n",
              "        document.querySelector('#' + key + ' button');\n",
              "      quickchartButtonEl.disabled = true;  // To prevent multiple clicks.\n",
              "      quickchartButtonEl.classList.add('colab-df-spinner');\n",
              "      try {\n",
              "        const charts = await google.colab.kernel.invokeFunction(\n",
              "            'suggestCharts', [key], {});\n",
              "      } catch (error) {\n",
              "        console.error('Error during call to suggestCharts:', error);\n",
              "      }\n",
              "      quickchartButtonEl.classList.remove('colab-df-spinner');\n",
              "      quickchartButtonEl.classList.add('colab-df-quickchart-complete');\n",
              "    }\n",
              "    (() => {\n",
              "      let quickchartButtonEl =\n",
              "        document.querySelector('#df-f7bbdb1a-8ba3-40a8-9603-81c84fd1dd76 button');\n",
              "      quickchartButtonEl.style.display =\n",
              "        google.colab.kernel.accessAllowed ? 'block' : 'none';\n",
              "    })();\n",
              "  </script>\n",
              "</div>\n",
              "\n",
              "    </div>\n",
              "  </div>\n"
            ],
            "application/vnd.google.colaboratory.intrinsic+json": {
              "type": "dataframe"
            }
          },
          "metadata": {},
          "execution_count": 6
        }
      ]
    },
    {
      "cell_type": "markdown",
      "source": [
        "\n",
        " Based on the statistical table that provides information about the specifications of mobile phones, we can extract some key points regarding these devices:\n",
        "\n",
        "\n",
        "1. Battery Power (battery_power): Ranges from 500 mAh to 1998 mAh. The average is 1238 mAh, indicating most devices have a medium battery, but there are some with both low and high capacities.\n",
        "\n",
        "2. Clock Speed (clock_speed): Ranges from 0.5 GHz to 3.0 GHz. The average clock speed is 1.52 GHz, meaning most phones have a decent processing power, suitable for everyday tasks.\n",
        "3. Front Camera (fc): The front camera resolution varies between 0 MP and 19 MP. The average is 4 MP, indicating that most devices have a basic selfie camera, but some have higher-quality options.\n",
        "4. Internal Memory (int_memory): Ranges from 2 GB to 64 GB. The average internal memory is 32 GB, which aligns with common storage sizes in many phones.\n",
        "5. Screen Height (sc_h) and Width (sc_w): Screen height ranges from 5 cm to 19 cm, and the width varies from 0 cm to 18 cm. The average screen height is about 12 cm and the average width is around 5 cm, showing that most phones have medium-sized screens.\n",
        "6. RAM: Ranges from 256 MB to 3998 MB. The average is 2124 MB (around 2 GB), suggesting that most devices are equipped with a moderate amount of memory.\n",
        " Mobile Depth (m_dep):\n",
        "7. This represents the thickness of the device. Values range from 0.1 to 1.0, with an average thickness of 0.50. Most devices fall into the medium thickness range.\n",
        "\n",
        "8. Mobile Weight (mobile_wt):\n",
        "This represents the weight of the device in grams. The values range from 80g to 200g, with an average weight of 140.24g. Most devices have a moderate weight, making them easy to handle.\n",
        "\n",
        "\n",
        "9. Number of Cores (n_cores):\n",
        "This represents the number of processor cores in the device, which directly impacts its speed and performance. The values range from 1 to 8 cores, with an average of 4.52 cores. Most devices have multi-core processors to enhance overall performance.\n",
        "\n",
        "10. Pixel Height (px_height):\n",
        "This indicates the number of pixels in the vertical direction of the device’s screen. The values range from 0 to 1960 pixels, with an average height of 645.11 pixels. This shows a variation in screen resolution across devices, with some having higher-resolution displays.\n",
        "\n",
        "11. Pixel Width (px_width):\n",
        "This represents the number of pixels in the horizontal direction of the screen. Values range from 0 to 1998 pixels, with an average width of 1251.52 pixels. This suggests that some devices have wide, high-quality screens, while others may have lower resolution.\n",
        "\n",
        "12. The average talk_time is 11.01 hours, indicating that most devices in this dataset can last approximately 11 hours on a single battery charge during calls.\n"
      ],
      "metadata": {
        "id": "3t85SJbost-8"
      }
    },
    {
      "cell_type": "code",
      "source": [
        "import pandas as pd\n",
        "\n",
        "data = pd.read_csv('./Dataset/Mobile_data.csv')\n",
        "\n",
        "median_values = data.median()\n",
        "print(\"The median for each column is:\\n\", median_values)"
      ],
      "metadata": {
        "id": "sp8HId-Es_SN",
        "colab": {
          "base_uri": "https://localhost:8080/"
        },
        "outputId": "86ce947f-248b-4a3f-81dc-7b03aee58d65"
      },
      "execution_count": null,
      "outputs": [
        {
          "output_type": "stream",
          "name": "stdout",
          "text": [
            "The median for each column is:\n",
            " battery_power    1226.0\n",
            "blue                0.0\n",
            "clock_speed         1.5\n",
            "dual_sim            1.0\n",
            "fc                  3.0\n",
            "four_g              1.0\n",
            "int_memory         32.0\n",
            "m_dep               0.5\n",
            "mobile_wt         141.0\n",
            "n_cores             4.0\n",
            "pc                 10.0\n",
            "px_height         564.0\n",
            "px_width         1247.0\n",
            "ram              2146.5\n",
            "sc_h               12.0\n",
            "sc_w                5.0\n",
            "talk_time          11.0\n",
            "three_g             1.0\n",
            "touch_screen        1.0\n",
            "wifi                1.0\n",
            "price_range         1.5\n",
            "dtype: float64\n"
          ]
        }
      ]
    },
    {
      "cell_type": "markdown",
      "source": [
        "The median of the price_range is 1.5, meaning that half of the values in this column are 1 ( representing the lower price range), while the other half falls between 2 and 3 (representing higher price ranges)."
      ],
      "metadata": {
        "id": "XrthxlPgtfvE"
      }
    },
    {
      "cell_type": "code",
      "source": [
        "mode_values = data[['blue', 'dual_sim', 'four_g', 'touch_screen', 'wifi']].mode()\n",
        "\n",
        "print(\"Mode for each column is:\\n\", mode_values)"
      ],
      "metadata": {
        "colab": {
          "base_uri": "https://localhost:8080/"
        },
        "id": "rRe6HM56ttQ7",
        "outputId": "4f55f379-9e96-4b9a-c601-add2ae117334"
      },
      "execution_count": null,
      "outputs": [
        {
          "output_type": "stream",
          "name": "stdout",
          "text": [
            "Mode for each column is:\n",
            "    blue  dual_sim  four_g  touch_screen  wifi\n",
            "0     0         1       1             1     1\n"
          ]
        }
      ]
    },
    {
      "cell_type": "markdown",
      "source": [
        "The mode for the selected columns shows that for bluetooth and dual_sim, the most frequent value is 0, indicating that these features are less commonly present in the dataset. On the other hand, for four_g, touch_screen, and wifi, the most frequent value is 1, meaning these features are more commonly available in the dataset."
      ],
      "metadata": {
        "id": "i5PnOjnBuxT-"
      }
    },
    {
      "cell_type": "code",
      "source": [
        "df.var(numeric_only=True)"
      ],
      "metadata": {
        "id": "ci3_8TwqXxg6",
        "colab": {
          "base_uri": "https://localhost:8080/",
          "height": 734
        },
        "outputId": "0e4c12d8-480a-40f9-cd76-835172a9a7de"
      },
      "execution_count": null,
      "outputs": [
        {
          "output_type": "execute_result",
          "data": {
            "text/plain": [
              "battery_power    1.930884e+05\n",
              "blue             2.501001e-01\n",
              "clock_speed      6.658629e-01\n",
              "dual_sim         2.500348e-01\n",
              "fc               1.884813e+01\n",
              "four_g           2.496626e-01\n",
              "int_memory       3.292670e+02\n",
              "m_dep            8.318353e-02\n",
              "mobile_wt        1.253136e+03\n",
              "n_cores          5.234197e+00\n",
              "pc               3.677592e+01\n",
              "px_height        1.969414e+05\n",
              "px_width         1.867964e+05\n",
              "ram              1.176644e+06\n",
              "sc_h             1.775143e+01\n",
              "sc_w             1.897820e+01\n",
              "talk_time        2.985481e+01\n",
              "three_g          1.817086e-01\n",
              "touch_screen     2.501161e-01\n",
              "wifi             2.500760e-01\n",
              "price_range      1.250625e+00\n",
              "dtype: float64"
            ],
            "text/html": [
              "<div>\n",
              "<style scoped>\n",
              "    .dataframe tbody tr th:only-of-type {\n",
              "        vertical-align: middle;\n",
              "    }\n",
              "\n",
              "    .dataframe tbody tr th {\n",
              "        vertical-align: top;\n",
              "    }\n",
              "\n",
              "    .dataframe thead th {\n",
              "        text-align: right;\n",
              "    }\n",
              "</style>\n",
              "<table border=\"1\" class=\"dataframe\">\n",
              "  <thead>\n",
              "    <tr style=\"text-align: right;\">\n",
              "      <th></th>\n",
              "      <th>0</th>\n",
              "    </tr>\n",
              "  </thead>\n",
              "  <tbody>\n",
              "    <tr>\n",
              "      <th>battery_power</th>\n",
              "      <td>1.930884e+05</td>\n",
              "    </tr>\n",
              "    <tr>\n",
              "      <th>blue</th>\n",
              "      <td>2.501001e-01</td>\n",
              "    </tr>\n",
              "    <tr>\n",
              "      <th>clock_speed</th>\n",
              "      <td>6.658629e-01</td>\n",
              "    </tr>\n",
              "    <tr>\n",
              "      <th>dual_sim</th>\n",
              "      <td>2.500348e-01</td>\n",
              "    </tr>\n",
              "    <tr>\n",
              "      <th>fc</th>\n",
              "      <td>1.884813e+01</td>\n",
              "    </tr>\n",
              "    <tr>\n",
              "      <th>four_g</th>\n",
              "      <td>2.496626e-01</td>\n",
              "    </tr>\n",
              "    <tr>\n",
              "      <th>int_memory</th>\n",
              "      <td>3.292670e+02</td>\n",
              "    </tr>\n",
              "    <tr>\n",
              "      <th>m_dep</th>\n",
              "      <td>8.318353e-02</td>\n",
              "    </tr>\n",
              "    <tr>\n",
              "      <th>mobile_wt</th>\n",
              "      <td>1.253136e+03</td>\n",
              "    </tr>\n",
              "    <tr>\n",
              "      <th>n_cores</th>\n",
              "      <td>5.234197e+00</td>\n",
              "    </tr>\n",
              "    <tr>\n",
              "      <th>pc</th>\n",
              "      <td>3.677592e+01</td>\n",
              "    </tr>\n",
              "    <tr>\n",
              "      <th>px_height</th>\n",
              "      <td>1.969414e+05</td>\n",
              "    </tr>\n",
              "    <tr>\n",
              "      <th>px_width</th>\n",
              "      <td>1.867964e+05</td>\n",
              "    </tr>\n",
              "    <tr>\n",
              "      <th>ram</th>\n",
              "      <td>1.176644e+06</td>\n",
              "    </tr>\n",
              "    <tr>\n",
              "      <th>sc_h</th>\n",
              "      <td>1.775143e+01</td>\n",
              "    </tr>\n",
              "    <tr>\n",
              "      <th>sc_w</th>\n",
              "      <td>1.897820e+01</td>\n",
              "    </tr>\n",
              "    <tr>\n",
              "      <th>talk_time</th>\n",
              "      <td>2.985481e+01</td>\n",
              "    </tr>\n",
              "    <tr>\n",
              "      <th>three_g</th>\n",
              "      <td>1.817086e-01</td>\n",
              "    </tr>\n",
              "    <tr>\n",
              "      <th>touch_screen</th>\n",
              "      <td>2.501161e-01</td>\n",
              "    </tr>\n",
              "    <tr>\n",
              "      <th>wifi</th>\n",
              "      <td>2.500760e-01</td>\n",
              "    </tr>\n",
              "    <tr>\n",
              "      <th>price_range</th>\n",
              "      <td>1.250625e+00</td>\n",
              "    </tr>\n",
              "  </tbody>\n",
              "</table>\n",
              "</div><br><label><b>dtype:</b> float64</label>"
            ]
          },
          "metadata": {},
          "execution_count": 9
        }
      ]
    },
    {
      "cell_type": "markdown",
      "source": [
        "The variance values indicate how spread out the data is for each attribute:\n",
        "\n",
        " • Battery Power (battery_power) has a high variance (193088.6), which means that there is a wide range of battery capacities across the devices in the dataset.\n",
        "\n",
        " • Clock Speed (clock_speed) shows a variance of 0.66, suggesting that the differences in processor speeds are not very large, indicating most devices have similar clock speeds.\n",
        "\n",
        " • RAM has a variance of 1176644.6, pointing to a significant variation in the memory size among the devices. Some phones have much higher RAM than others.\n",
        "\n",
        " • Screen Height (sc_h) and Screen Width (sc_w) have variances of 1.77 and 1.89, respectively, indicating moderate differences in screen dimensions across the devices.\n",
        "\n",
        " • fc (front camera): 18.88: Shows noticeable differences in front camera quality between devices.\n",
        "\n",
        " • int_memory (internal memory): 3.29e+02: Indicates a clear difference in storage capacity among devices.\n",
        "\n",
        " • m_dep (mobile depth): 8.31: Reflects slight variation in phone thickness.\n",
        "\n",
        " • mobile_wt (mobile weight): 1.25e+03: Shows a large difference in device weight.\n",
        "\n",
        " • n_cores (number of cores): 5.23e+01: Reflects a difference in the number of processing cores.\n",
        "\n",
        " • pc (primary camera): 3.67e+02: Indicates significant variation in the primary camera quality.\n",
        "\n",
        " • px_height: 1.97e+05: Demonstrates substantial differences in screen resolution height.\n",
        "\n",
        " • px_width: 1.64e+05: Demonstrates substantial differences in screen resolution width.\n",
        "\n",
        " • sc_h (screen height): 1.17e+01: Shows minor variation in screen height.\n",
        "\n",
        " • talk_time: 2.98e+01: Indicates differences in battery life during calls across devices."
      ],
      "metadata": {
        "id": "sizrjL8QZGwd"
      }
    },
    {
      "cell_type": "markdown",
      "source": [
        "**Sample of 30 Mobile  from the dataset:**"
      ],
      "metadata": {
        "id": "b6BCUa5t0E9d"
      }
    },
    {
      "cell_type": "code",
      "source": [
        "sample= df.sample(n=30);\n",
        "print(sample);"
      ],
      "metadata": {
        "id": "59Ybm4Eynj65",
        "colab": {
          "base_uri": "https://localhost:8080/"
        },
        "outputId": "038cd45a-19c1-404c-9660-da58602cab43"
      },
      "execution_count": null,
      "outputs": [
        {
          "output_type": "stream",
          "name": "stdout",
          "text": [
            "      battery_power  blue  clock_speed  dual_sim  fc  four_g  int_memory  \\\n",
            "1190           1092     1          0.5         1  10       0          11   \n",
            "1004            965     1          0.5         0  15       0          53   \n",
            "1703            942     0          1.4         1   8       0          27   \n",
            "342            1989     1          2.9         1   8       0          17   \n",
            "502            1661     1          0.8         1   1       1           6   \n",
            "1210            805     1          1.7         1   0       1          58   \n",
            "1515            595     0          2.6         0   0       1          20   \n",
            "944             674     1          2.8         1   0       1           8   \n",
            "1386            610     1          1.6         1   9       0          52   \n",
            "3               615     1          2.5         0   0       0          10   \n",
            "449            1844     1          2.3         1   1       0          51   \n",
            "445            1608     0          1.8         1   7       0          28   \n",
            "966            1910     1          1.7         0   0       0          34   \n",
            "1914            759     0          2.5         0   3       1          39   \n",
            "980            1597     0          2.3         0  11       0          34   \n",
            "1972           1191     0          0.8         0   6       1          46   \n",
            "169            1569     0          2.8         1  17       0          44   \n",
            "1691           1603     1          0.5         1   1       1          17   \n",
            "718            1108     0          1.0         0   3       0          49   \n",
            "1122           1871     0          2.1         0   4       1          41   \n",
            "55             1936     0          2.1         1  10       1          46   \n",
            "27              956     0          0.5         0   1       1          41   \n",
            "165             517     0          1.4         1   3       1          33   \n",
            "555            1230     1          2.2         1   6       0          26   \n",
            "729            1135     1          2.8         1   9       0          43   \n",
            "1654           1727     1          2.1         1  10       0          57   \n",
            "389            1712     0          1.4         0   1       0          63   \n",
            "114            1804     0          0.5         0   9       1          22   \n",
            "1611           1310     0          2.3         1   3       0          15   \n",
            "518            1606     0          1.4         0   3       0          57   \n",
            "\n",
            "      m_dep  mobile_wt  n_cores  ...  px_height  px_width   ram  sc_h  sc_w  \\\n",
            "1190    0.5        167        3  ...        468       571   737    14     4   \n",
            "1004    1.0        131        8  ...        297       653  3227    12     6   \n",
            "1703    0.5         91        4  ...        754      1532   587     6     3   \n",
            "342     0.1        193        8  ...        629       682  2369     7     0   \n",
            "502     1.0        109        7  ...        594      1337   864     9     8   \n",
            "1210    0.9        168        3  ...         81      1544  3397     7     6   \n",
            "1515    0.4        122        2  ...        623       816  1593    19    11   \n",
            "944     0.2         93        3  ...        750       772   589    18     6   \n",
            "1386    0.4         90        4  ...       1039      1273  3472    10     4   \n",
            "3       0.8        131        6  ...       1216      1786  2769    16     8   \n",
            "449     0.7        158        8  ...        533       882  1724     5     1   \n",
            "445     0.4        183        2  ...       1013      1158   489    15    11   \n",
            "966     0.6        115        2  ...        985      1284   309     8     4   \n",
            "1914    0.3        162        2  ...        110      1317   968     6     2   \n",
            "980     0.4         89        1  ...         64      1667   934    16    10   \n",
            "1972    0.8         89        6  ...         42       807   824    19    18   \n",
            "169     0.3        110        4  ...         45      1942  1260     9     2   \n",
            "1691    0.5        114        2  ...        430      1207  1637    17     3   \n",
            "718     0.7        140        5  ...       1298      1666  3254    12     0   \n",
            "1122    0.4        144        8  ...        275      1966  2727    15     8   \n",
            "55      0.6        104        3  ...        667      1036  2552    14     7   \n",
            "27      1.0        143        7  ...        511      1075  3286    17     8   \n",
            "165     0.8        183        4  ...        660       974  3704    17    16   \n",
            "555     0.8        123        5  ...        416       676   988    11     5   \n",
            "729     0.4        158        1  ...        690      1589  3204    18    13   \n",
            "1654    0.3        158        6  ...        376      1288   512     5     2   \n",
            "389     0.5        137        7  ...        747      1126  3652    16     1   \n",
            "114     0.6        153        7  ...       1158      1244  3472     9     1   \n",
            "1611    0.2        150        5  ...        954       970  2518    18    17   \n",
            "518     0.1        154        4  ...       1127      1924  3454    13     8   \n",
            "\n",
            "      talk_time  three_g  touch_screen  wifi  price_range  \n",
            "1190         11        0             1     0            0  \n",
            "1004          8        1             0     0            2  \n",
            "1703         13        0             1     1            0  \n",
            "342          18        1             1     0            2  \n",
            "502           2        1             0     1            1  \n",
            "1210          2        1             0     0            2  \n",
            "1515          2        1             0     1            0  \n",
            "944           4        1             1     0            0  \n",
            "1386         12        1             1     1            3  \n",
            "3            11        1             0     0            2  \n",
            "449          14        0             1     1            1  \n",
            "445           8        0             0     1            0  \n",
            "966          10        0             0     1            0  \n",
            "1914          2        1             0     0            0  \n",
            "980           9        0             1     0            0  \n",
            "1972          7        1             0     0            0  \n",
            "169          17        1             0     0            1  \n",
            "1691         11        1             0     1            1  \n",
            "718          16        1             0     0            3  \n",
            "1122         11        1             0     0            3  \n",
            "55           13        1             0     0            2  \n",
            "27           12        1             1     0            3  \n",
            "165          11        1             0     1            3  \n",
            "555           9        0             1     1            0  \n",
            "729           6        1             0     0            3  \n",
            "1654          6        0             0     0            0  \n",
            "389          19        1             0     0            3  \n",
            "114          20        1             0     1            3  \n",
            "1611          5        0             1     1            2  \n",
            "518          20        0             0     1            3  \n",
            "\n",
            "[30 rows x 21 columns]\n"
          ]
        }
      ]
    },
    {
      "cell_type": "markdown",
      "source": [
        "**Cheak the missing values:**"
      ],
      "metadata": {
        "id": "HrWEEmQD6ICh"
      }
    },
    {
      "cell_type": "code",
      "source": [
        "missing_values = df.isna()\n",
        "\n",
        "missing_counts = missing_values.sum();\n",
        "\n",
        "rows_with_missing = df[df.isna().any(axis=1)];\n",
        "\n",
        "print(\"Missing values in each column:\");\n",
        "print(missing_counts);\n",
        "print(\"\\nRows with missing values:\");\n",
        "print(rows_with_missing);"
      ],
      "metadata": {
        "id": "iWeU4yp6SqE5",
        "colab": {
          "base_uri": "https://localhost:8080/"
        },
        "outputId": "e1a52f6e-672c-4f3c-9ee9-bc6c0a8660a4"
      },
      "execution_count": null,
      "outputs": [
        {
          "output_type": "stream",
          "name": "stdout",
          "text": [
            "Missing values in each column:\n",
            "battery_power    0\n",
            "blue             0\n",
            "clock_speed      0\n",
            "dual_sim         0\n",
            "fc               0\n",
            "four_g           0\n",
            "int_memory       0\n",
            "m_dep            0\n",
            "mobile_wt        0\n",
            "n_cores          0\n",
            "pc               0\n",
            "px_height        0\n",
            "px_width         0\n",
            "ram              0\n",
            "sc_h             0\n",
            "sc_w             0\n",
            "talk_time        0\n",
            "three_g          0\n",
            "touch_screen     0\n",
            "wifi             0\n",
            "price_range      0\n",
            "dtype: int64\n",
            "\n",
            "Rows with missing values:\n",
            "Empty DataFrame\n",
            "Columns: [battery_power, blue, clock_speed, dual_sim, fc, four_g, int_memory, m_dep, mobile_wt, n_cores, pc, px_height, px_width, ram, sc_h, sc_w, talk_time, three_g, touch_screen, wifi, price_range]\n",
            "Index: []\n",
            "\n",
            "[0 rows x 21 columns]\n"
          ]
        }
      ]
    },
    {
      "cell_type": "markdown",
      "source": [
        "There is no missing value in our dataset"
      ],
      "metadata": {
        "id": "XEvhp5Sv622S"
      }
    },
    {
      "cell_type": "markdown",
      "source": [
        "**Understanding the data through graph representations:**\n",
        "\n",
        "\n",
        "\n",
        "**A pie chart** is a circular statistical graphic that represents data in a way that visually shows the proportion of different categories within a whole. Each slice of the pie corresponds to a category, and the size of each slice is proportional to the quantity it represents."
      ],
      "metadata": {
        "id": "it5OqoXLUOUG"
      }
    },
    {
      "cell_type": "code",
      "source": [
        "import pandas as pd\n",
        "import matplotlib.pyplot as plt\n",
        "\n",
        "\n",
        "price_range_count = data['price_range'].value_counts()\n",
        "\n",
        "\n",
        "plt.figure(figsize=(10, 6))\n",
        "plt.pie(price_range_count, labels=price_range_count.index, autopct='%1.1f%%', startangle=90, colors=['lightblue', 'lightgreen', 'orange', 'red'], explode=(0.05, 0.05, 0.05, 0.05))\n",
        "plt.title('Percentage of Devices in Each Price Range')\n",
        "plt.show()"
      ],
      "metadata": {
        "id": "DmEHzGMzxb_Q",
        "colab": {
          "base_uri": "https://localhost:8080/",
          "height": 521
        },
        "outputId": "41c6ebda-e612-4563-8d7c-8dee7aa1d970"
      },
      "execution_count": null,
      "outputs": [
        {
          "output_type": "display_data",
          "data": {
            "text/plain": [
              "<Figure size 1000x600 with 1 Axes>"
            ],
            "image/png": "[encoded data removed]"
          },
          "metadata": {}
        }
      ]
    },
    {
      "cell_type": "markdown",
      "source": [
        "Since the number of devices in each price range is equal, we can rely on the graph without needing to take a sample."
      ],
      "metadata": {
        "id": "Q-vloni513EL"
      }
    },
    {
      "cell_type": "code",
      "source": [
        "import pandas as pd\n",
        "import matplotlib.pyplot as plt\n",
        "\n",
        "features = ['wifi', 'three_g', 'four_g']\n",
        "support_count = data[features].sum()\n",
        "\n",
        "\n",
        "plt.figure(figsize=(10, 6))\n",
        "plt.pie(support_count, labels=features, autopct='%1.1f%%', colors=['blue', 'green', 'orange'], startangle=90, explode=(0.1, 0, 0))\n",
        "plt.title('Percentage of Devices Supporting Wifi, 3G, 4G')\n",
        "plt.show()"
      ],
      "metadata": {
        "colab": {
          "base_uri": "https://localhost:8080/",
          "height": 521
        },
        "id": "jtrJZ8Wv5FwW",
        "outputId": "b7377d5d-2920-400d-807b-129d14fcc1f4"
      },
      "execution_count": null,
      "outputs": [
        {
          "output_type": "display_data",
          "data": {
            "text/plain": [
              "<Figure size 1000x600 with 1 Axes>"
            ],
            "image/png": "[encoded data removed]"
          },
          "metadata": {}
        }
      ]
    },
    {
      "cell_type": "markdown",
      "source": [
        "This pie chart provides a clear visual representation of the distribution of network types supported by devices, with 3G being the most common in our dataset."
      ],
      "metadata": {
        "id": "QieXKhe15MLz"
      }
    },
    {
      "cell_type": "markdown",
      "source": [
        "**A bar chart** is a graphical representation of data that uses rectangular bars to show the quantities of different categories:\n",
        "\n",
        "\n",
        "\n",
        "\n",
        "\n",
        "\n"
      ],
      "metadata": {
        "id": "lzXti7RHv-3m"
      }
    },
    {
      "cell_type": "code",
      "source": [
        "import matplotlib.pyplot as plt\n",
        "import pandas as pd\n",
        "\n",
        "# Assuming df is your DataFrame\n",
        "average_heights = df.groupby('price_range')['ram'].mean()\n",
        "\n",
        "plt.figure(figsize=(10, 6))\n",
        "average_heights.plot(kind='bar', color='violet')\n",
        "plt.xlabel('Price Range')\n",
        "plt.ylabel('Average ram')\n",
        "plt.title('Average ram by Price Range')\n",
        "plt.xticks(rotation=0)  # Rotate x labels for better readability\n",
        "plt.grid(axis='y')\n",
        "plt.show()\n"
      ],
      "metadata": {
        "colab": {
          "base_uri": "https://localhost:8080/",
          "height": 521
        },
        "id": "9VWPVwF8_j4g",
        "outputId": "f091bfff-cc12-497e-8636-b663d05d1ad4"
      },
      "execution_count": null,
      "outputs": [
        {
          "output_type": "display_data",
          "data": {
            "text/plain": [
              "<Figure size 1000x600 with 1 Axes>"
            ],
            "image/png": "[encoded data removed]"
          },
          "metadata": {}
        }
      ]
    },
    {
      "cell_type": "markdown",
      "source": [
        "From this graph, demonstrates a positive correlation between the price range and the amount of RAM in mobile phones. As the price range increases, the median RAM capacity increases, suggesting that more expensive phones typically offer higher RAM capacities. This trend aligns with consumer expectations, as premium phones often feature larger RAM for better performance.\n"
      ],
      "metadata": {
        "id": "vzj46bXEwTvm"
      }
    },
    {
      "cell_type": "markdown",
      "source": [
        "**line graph:**\n",
        " is a chart that displays data points connected by lines, typically showing trends over time. The x-axis represents the independent variable (like time), while the y-axis shows the dependent variable (like sales). It effectively highlights patterns, increases, and decreases in data, making it useful for analysis and forecasting."
      ],
      "metadata": {
        "id": "FJAAAuIUTniM"
      }
    },
    {
      "cell_type": "code",
      "source": [
        "import matplotlib.pyplot as plt\n",
        "import pandas as pd\n",
        "\n",
        "average_power = df.groupby('price_range')['battery_power'].mean()\n",
        "\n",
        "plt.figure(figsize=(10, 8))\n",
        "plt.plot(average_power.index, average_power.values, marker='o', linestyle='-', color='blue')\n",
        "plt.xlabel('Price Range')\n",
        "plt.ylabel('Average Battery Power')\n",
        "plt.title('Average Battery Power by Price Range')\n",
        "plt.xticks(average_power.index)\n",
        "plt.grid(True)\n",
        "plt.show()\n"
      ],
      "metadata": {
        "id": "Mr-iFTyV48kg",
        "colab": {
          "base_uri": "https://localhost:8080/",
          "height": 663
        },
        "outputId": "a32570e8-23ba-4d22-e336-26ced9fef3a3"
      },
      "execution_count": null,
      "outputs": [
        {
          "output_type": "display_data",
          "data": {
            "text/plain": [
              "<Figure size 1000x800 with 1 Axes>"
            ],
            "image/png": "[encoded data removed]"
          },
          "metadata": {}
        }
      ]
    },
    {
      "cell_type": "markdown",
      "source": [
        "From this graph, we can infer a positive correlation between the battery power and the price range of mobile. Higher-priced phones generally come with better battery capacities, which could be due to manufacturers including larger or more advanced batteries in premium models."
      ],
      "metadata": {
        "id": "t8lirUuMTt0Q"
      }
    },
    {
      "cell_type": "code",
      "source": [
        "average_wt = df.groupby('price_range')['mobile_wt'].mean()\n",
        "\n",
        "plt.figure(figsize=(10, 8))\n",
        "plt.plot(average_wt.index, average_wt.values, marker='o', linestyle='-', color='blue')\n",
        "plt.xlabel('Price Range')\n",
        "plt.ylabel('Average mobile_wt')\n",
        "plt.title('Average mobile_wt by Price Range')\n",
        "plt.xticks(average_power.index)\n",
        "plt.grid(True)\n",
        "plt.show()"
      ],
      "metadata": {
        "id": "FmXimdCQ5KaC",
        "colab": {
          "base_uri": "https://localhost:8080/",
          "height": 669
        },
        "outputId": "1db6c533-320d-4bc1-ce31-9a0d2af0acc1"
      },
      "execution_count": null,
      "outputs": [
        {
          "output_type": "display_data",
          "data": {
            "text/plain": [
              "<Figure size 1000x800 with 1 Axes>"
            ],
            "image/png": "[encoded data removed]"
          },
          "metadata": {}
        }
      ]
    },
    {
      "cell_type": "markdown",
      "source": [
        "From this graph, we can infer that higher-priced mobile phones tend to be lighter on average. This trend could be due to the use of more advanced materials or design optimizations in premium phones, which aim to provide a lightweight and sleek design while maintaining performance."
      ],
      "metadata": {
        "id": "HSSAn6BGXcj9"
      }
    },
    {
      "cell_type": "markdown",
      "source": [
        "**Data Pre-processing:**\n",
        "\n",
        "We applied several data pre-processing methods, including:\n",
        "\n",
        "**Data Cleaning:** This involves filling in missing values, eliminating noise, resolving inconsistencies, and identifying and removing outliers from the dataset.\n",
        "\n",
        "**Data Transformations:** Techniques like normalization and discretization were employed. Normalization, in particular, can enhance the accuracy and efficiency of mining algorithms that rely on distance measurements.\n",
        "\n",
        "**Feature Selection:**  This process selects a subset of clean data that contains non-redundant and relevant features from the original dataset.\n",
        "\n"
      ],
      "metadata": {
        "id": "HSJX94VHS1LL"
      }
    },
    {
      "cell_type": "markdown",
      "source": [
        "**Remove duplicates:**"
      ],
      "metadata": {
        "id": "kCoACD7SX8xH"
      }
    },
    {
      "cell_type": "code",
      "source": [
        "data = pd.read_csv('./Dataset/Mobile_data.csv')\n",
        "num_duplicates = data.duplicated().sum()\n",
        "data_cleaned = data.drop_duplicates()\n",
        "print(\"Number of duplicate rows:\", num_duplicates)\n",
        "data_cleaned.to_csv('Cleaned_dataset.csv', index=False)"
      ],
      "metadata": {
        "id": "drR8yNynGDZf",
        "colab": {
          "base_uri": "https://localhost:8080/"
        },
        "outputId": "bd4142da-baa2-4171-cf6b-5b7c219639fd"
      },
      "execution_count": null,
      "outputs": [
        {
          "output_type": "stream",
          "name": "stdout",
          "text": [
            "Number of duplicate rows: 0\n"
          ]
        }
      ]
    },
    {
      "cell_type": "markdown",
      "source": [
        "**Handling Missing Values:**\n",
        "\n",
        "\n",
        "\n",
        " There is no Missing Values in our dataset\n",
        "\n",
        "\n",
        "\n",
        " [we have showed that above]"
      ],
      "metadata": {
        "id": "mUHZ2nxaYTPI"
      }
    },
    {
      "cell_type": "markdown",
      "source": [
        "**Detecting outliers** involves identifying data points that significantly deviate from the majority of the dataset. Outliers can arise due to variability in the data, data entry errors, or rare occurrences, and they have the potential to distort statistical analyses or negatively impact the performance of predictive models. Identifying and addressing outliers is essential for improving the reliability and accuracy of data-driven insights and models."
      ],
      "metadata": {
        "id": "RhbW-XNuRX0w"
      }
    },
    {
      "cell_type": "code",
      "source": [
        "import pandas as pd\n",
        "\n",
        "# Load your dataset\n",
        "data = pd.read_csv('./Dataset/Mobile_data.csv')\n",
        "df = pd.DataFrame(data)\n",
        "\n",
        "# Function to detect outliers using IQR method\n",
        "def detect_outliers(data, column):\n",
        "    # Check if column is binary (contains only 0 and 1)\n",
        "    if data[column].nunique() == 2:\n",
        "        print(f\"{column}: Binary data, no outliers.\")\n",
        "        return 0\n",
        "    else:\n",
        "        # Calculate outliers using the IQR method\n",
        "        Q1 = data[column].quantile(0.25)\n",
        "        Q3 = data[column].quantile(0.75)\n",
        "        IQR = Q3 - Q1\n",
        "        lower_bound = Q1 - 1.5 * IQR\n",
        "        upper_bound = Q3 + 1.5 * IQR\n",
        "\n",
        "        # Find outliers\n",
        "        outliers = data[(data[column] < lower_bound) | (data[column] > upper_bound)]\n",
        "        print(f\"{column}: {len(outliers)} rows with outliers\")\n",
        "        return len(outliers)\n",
        "\n",
        "# List of columns to check for outliers\n",
        "columns = ['battery_power', 'three_g', 'clock_speed', 'dual_sim', 'fc', 'four_g',\n",
        "           'int_memory', 'm_dep', 'mobile_wt', 'n_cores', 'pc', 'px_height',\n",
        "           'px_width', 'ram', 'sc_h', 'sc_w', 'talk_time', 'touch_screen', 'wifi', 'price_range']\n",
        "\n",
        "# Detect outliers for each column and count the total number of outliers\n",
        "total_outliers = 0\n",
        "for col in columns:\n",
        "    total_outliers += detect_outliers(df, col)\n",
        "\n",
        "print(f\"\\nTotal rows with outliers across all columns: {total_outliers}\")\n",
        "\n"
      ],
      "metadata": {
        "colab": {
          "base_uri": "https://localhost:8080/"
        },
        "id": "H3IJxl1xOJxd",
        "outputId": "9f9e8580-230f-4bf3-c2d5-d4a78c899916"
      },
      "execution_count": null,
      "outputs": [
        {
          "output_type": "stream",
          "name": "stdout",
          "text": [
            "battery_power: 0 rows with outliers\n",
            "three_g: Binary data, no outliers.\n",
            "clock_speed: 0 rows with outliers\n",
            "dual_sim: Binary data, no outliers.\n",
            "fc: 18 rows with outliers\n",
            "four_g: Binary data, no outliers.\n",
            "int_memory: 0 rows with outliers\n",
            "m_dep: 0 rows with outliers\n",
            "mobile_wt: 0 rows with outliers\n",
            "n_cores: 0 rows with outliers\n",
            "pc: 0 rows with outliers\n",
            "px_height: 2 rows with outliers\n",
            "px_width: 0 rows with outliers\n",
            "ram: 0 rows with outliers\n",
            "sc_h: 0 rows with outliers\n",
            "sc_w: 0 rows with outliers\n",
            "talk_time: 0 rows with outliers\n",
            "touch_screen: Binary data, no outliers.\n",
            "wifi: Binary data, no outliers.\n",
            "price_range: 0 rows with outliers\n",
            "\n",
            "Total rows with outliers across all columns: 20\n"
          ]
        }
      ]
    },
    {
      "cell_type": "markdown",
      "source": [
        "\n",
        "**A boxplot**, or box-and-whisker plot, visually represents data distribution using five key statistics: minimum, first quartile (Q1), median, third quartile (Q3), and maximum. The central box shows the interquartile range (IQR), while \"whiskers\" extend to the minimum and maximum values. Boxplots are effective for identifying outliers and comparing distributions across datasets"
      ],
      "metadata": {
        "id": "mjdNrwKGPE90"
      }
    },
    {
      "cell_type": "code",
      "source": [
        "import pandas as pd\n",
        "import matplotlib.pyplot as plt\n",
        "import seaborn as sns\n",
        "def plot_boxplot_with_outliers(data, column):\n",
        "    plt.figure(figsize=(8, 4))\n",
        "    sns.boxplot(x=data[column], color='lightblue', fliersize=5)\n",
        "    plt.title(f\"Boxplot of {column} with Outliers\")\n",
        "    plt.xlabel(column)\n",
        "    plt.grid(True)\n",
        "    plt.show()\n",
        "\n",
        "plot_boxplot_with_outliers(df, 'px_height')\n"
      ],
      "metadata": {
        "colab": {
          "base_uri": "https://localhost:8080/",
          "height": 410
        },
        "id": "wfJpTQiyLDfv",
        "outputId": "c42bd99b-ecce-4fac-db6a-cbfda10a1f31"
      },
      "execution_count": null,
      "outputs": [
        {
          "output_type": "display_data",
          "data": {
            "text/plain": [
              "<Figure size 800x400 with 1 Axes>"
            ],
            "image/png": "[encoded data removed]"
          },
          "metadata": {}
        }
      ]
    },
    {
      "cell_type": "code",
      "source": [
        "\n",
        "def plot_boxplot_with_outliers(data, column):\n",
        "    plt.figure(figsize=(8, 4))\n",
        "    sns.boxplot(x=data[column], color='lightblue', fliersize=5)\n",
        "    plt.title(f\"Boxplot of {column} with Outliers\")\n",
        "    plt.xlabel(column)\n",
        "    plt.grid(True)\n",
        "    plt.show()\n",
        "\n",
        "plot_boxplot_with_outliers(df, 'fc')\n",
        "\n"
      ],
      "metadata": {
        "colab": {
          "base_uri": "https://localhost:8080/",
          "height": 410
        },
        "id": "SABbLLSuHc2A",
        "outputId": "5cc42090-5e10-45ca-8d04-1709a9423ee7"
      },
      "execution_count": null,
      "outputs": [
        {
          "output_type": "display_data",
          "data": {
            "text/plain": [
              "<Figure size 800x400 with 1 Axes>"
            ],
            "image/png": "[encoded data removed]"
          },
          "metadata": {}
        }
      ]
    },
    {
      "cell_type": "markdown",
      "source": [
        "We created boxplots for each numeric column in the dataset using boxplot to visualize the distribution and detect outliers. Each boxplot provides a visual summary of the data’s range, the median (central tendency), and any potential outliers. The whiskers extend to show the range of the data, and any points outside this range are considered possible outliers. This approach allows us to quickly assess the spread and identify extreme values in each numeric column, which can inform decisions about data cleaning or preprocessing."
      ],
      "metadata": {
        "id": "LuaVVgtaSRQT"
      }
    },
    {
      "cell_type": "markdown",
      "source": [
        "**Handling outlier**: This process entails the identification and treatment of data points that substantially deviate from the majority of the dataset, as such outliers can distort analytical outcomes. Typical strategies for managing outliers include removing them entirely, capping their values to the closest acceptable limits, or applying data transformations to mitigate their influence. Effectively handling outliers is vital for enhancing model precision and ensuring trustworthy statistical insights."
      ],
      "metadata": {
        "id": "P_ETn9WGWVRu"
      }
    },
    {
      "cell_type": "code",
      "source": [
        "import numpy as np\n",
        "outlier_threshold = 1.5\n",
        "\n",
        "def count_outliers(column_data):\n",
        "    q1 = np.percentile(column_data, 25)\n",
        "    q3 = np.percentile(column_data, 75)\n",
        "    iqr = q3 - q1\n",
        "    upper_bound = q3 + outlier_threshold * iqr\n",
        "    lower_bound = q1 - outlier_threshold * iqr\n",
        "    outliers = (column_data > upper_bound) | (column_data < lower_bound)\n",
        "    return sum(outliers)\n",
        "\n",
        "numeric_columns = data.select_dtypes(include=[np.number]).columns\n",
        "\n",
        "outlier_counts = {}\n",
        "total_rows = len(data)\n",
        "\n",
        "for column in numeric_columns:\n",
        "    outliers = count_outliers(data[column])\n",
        "    outlier_counts[column] = outliers\n",
        "\n",
        "    # Cap outliers by setting them to the nearest non-outlier value\n",
        "    q1 = np.percentile(data[column], 25)\n",
        "    q3 = np.percentile(data[column], 75)\n",
        "    iqr = q3 - q1\n",
        "    upper_bound = q3 + outlier_threshold * iqr\n",
        "    lower_bound = q1 - outlier_threshold * iqr\n",
        "    data[column] = np.clip(data[column], lower_bound, upper_bound)\n",
        "\n",
        "data.to_csv('Cleaned_dataset.csv', index=False)"
      ],
      "metadata": {
        "id": "WL5_YRGMTfBt"
      },
      "execution_count": null,
      "outputs": []
    },
    {
      "cell_type": "markdown",
      "source": [
        "\n",
        "We defined a function to identify and cap outliers in each numeric column of the dataset using the IQR method. The outlier values were replaced with the nearest acceptable limits, ensuring the integrity of the data. The modified dataset was then saved to a new CSV file called Cleaned_dataset.csv."
      ],
      "metadata": {
        "id": "nEem97qjW0wE"
      }
    },
    {
      "cell_type": "code",
      "source": [
        "data1 = pd.read_csv('Cleaned_dataset.csv')\n",
        "outlier_threshold = 1.5\n",
        "\n",
        "def count_outliers(column_data1):\n",
        "    q1 = np.percentile(column_data1, 25)\n",
        "    q3 = np.percentile(column_data1, 75)\n",
        "    iqr = q3 - q1\n",
        "    upper_bound = q3 + outlier_threshold * iqr\n",
        "    lower_bound = q1 - outlier_threshold * iqr\n",
        "    outliers = (column_data1 > upper_bound) | (column_data1 < lower_bound)\n",
        "    return sum(outliers)\n",
        "\n",
        "numeric_columns = data1.select_dtypes(include=[np.number]).columns\n",
        "\n",
        "outlier_counts = {}\n",
        "total_rows_with_outliers = 0\n",
        "\n",
        "for column in numeric_columns:\n",
        "    outliers = count_outliers(data1[column])\n",
        "    outlier_counts[column] = outliers\n",
        "    total_rows_with_outliers += outliers\n",
        "\n",
        "total_rows = len(data1)\n",
        "\n",
        "print(\"Number of Outliers \")\n",
        "for column, count in outlier_counts.items():\n",
        "    print(f\"{column}: {count} rows with outliers\")\n",
        "\n",
        "print(f\"Number Rows with Outliers: {total_rows_with_outliers}\")"
      ],
      "metadata": {
        "id": "dQknN83HJLUw",
        "colab": {
          "base_uri": "https://localhost:8080/"
        },
        "outputId": "57a7fab5-dc17-44e7-94d9-a13d17856600"
      },
      "execution_count": null,
      "outputs": [
        {
          "output_type": "stream",
          "name": "stdout",
          "text": [
            "Number of Outliers \n",
            "battery_power: 0 rows with outliers\n",
            "blue: 0 rows with outliers\n",
            "clock_speed: 0 rows with outliers\n",
            "dual_sim: 0 rows with outliers\n",
            "fc: 0 rows with outliers\n",
            "four_g: 0 rows with outliers\n",
            "int_memory: 0 rows with outliers\n",
            "m_dep: 0 rows with outliers\n",
            "mobile_wt: 0 rows with outliers\n",
            "n_cores: 0 rows with outliers\n",
            "pc: 0 rows with outliers\n",
            "px_height: 0 rows with outliers\n",
            "px_width: 0 rows with outliers\n",
            "ram: 0 rows with outliers\n",
            "sc_h: 0 rows with outliers\n",
            "sc_w: 0 rows with outliers\n",
            "talk_time: 0 rows with outliers\n",
            "three_g: 0 rows with outliers\n",
            "touch_screen: 0 rows with outliers\n",
            "wifi: 0 rows with outliers\n",
            "price_range: 0 rows with outliers\n",
            "Number Rows with Outliers: 0\n"
          ]
        }
      ]
    },
    {
      "cell_type": "markdown",
      "source": [
        "We performed this step again on the new cleaned data to verify that the outlier handling was effective and that any remaining outliers were properly accounted for. This ensures the dataset's integrity and confirms that the data preprocessing steps improved the overall quality of the data.\n"
      ],
      "metadata": {
        "id": "cMHbj9efXTj8"
      }
    },
    {
      "cell_type": "markdown",
      "source": [
        "\n",
        "**Data transformation:**"
      ],
      "metadata": {
        "id": "dXmxVIo9J0pL"
      }
    },
    {
      "cell_type": "code",
      "source": [
        "data1 = pd.read_csv('Cleaned_dataset.csv')\n",
        "\n",
        "median_ram = data1[\"ram\"].median()\n",
        "data1[\"ram\"].fillna(median_ram, inplace=True)\n",
        "\n",
        "\n",
        "ram_labels = [\"low\", \"mid\", \"high\"]\n",
        "data1[\"ram\"] = pd.qcut(data1[\"ram\"], q=3, labels=ram_labels)\n",
        "\n",
        "print(data1)\n",
        "data1.to_csv('after_discretiztion.csv', index=False)\n"
      ],
      "metadata": {
        "id": "FjAqXEw2O_gO",
        "colab": {
          "base_uri": "https://localhost:8080/"
        },
        "outputId": "038da73b-786d-4081-f78e-5d67fb08ea7c"
      },
      "execution_count": null,
      "outputs": [
        {
          "output_type": "stream",
          "name": "stdout",
          "text": [
            "      battery_power  blue  clock_speed  dual_sim  fc  four_g  int_memory  \\\n",
            "0               842     0          2.2         0   1       0           7   \n",
            "1              1021     1          0.5         1   0       1          53   \n",
            "2               563     1          0.5         1   2       1          41   \n",
            "3               615     1          2.5         0   0       0          10   \n",
            "4              1821     1          1.2         0  13       1          44   \n",
            "...             ...   ...          ...       ...  ..     ...         ...   \n",
            "1995            794     1          0.5         1   0       1           2   \n",
            "1996           1965     1          2.6         1   0       0          39   \n",
            "1997           1911     0          0.9         1   1       1          36   \n",
            "1998           1512     0          0.9         0   4       1          46   \n",
            "1999            510     1          2.0         1   5       1          45   \n",
            "\n",
            "      m_dep  mobile_wt  n_cores  ...  px_height  px_width   ram sc_h  sc_w  \\\n",
            "0       0.6        188        2  ...         20       756   mid    9     7   \n",
            "1       0.7        136        3  ...        905      1988   mid   17     3   \n",
            "2       0.9        145        5  ...       1263      1716   mid   11     2   \n",
            "3       0.8        131        6  ...       1216      1786  high   16     8   \n",
            "4       0.6        141        2  ...       1208      1212   low    8     2   \n",
            "...     ...        ...      ...  ...        ...       ...   ...  ...   ...   \n",
            "1995    0.8        106        6  ...       1222      1890   low   13     4   \n",
            "1996    0.2        187        4  ...        915      1965   mid   11    10   \n",
            "1997    0.7        108        8  ...        868      1632  high    9     1   \n",
            "1998    0.1        145        5  ...        336       670   low   18    10   \n",
            "1999    0.9        168        6  ...        483       754  high   19     4   \n",
            "\n",
            "      talk_time  three_g  touch_screen  wifi  price_range  \n",
            "0            19        1             0     1            1  \n",
            "1             7        1             1     0            2  \n",
            "2             9        1             1     0            2  \n",
            "3            11        1             0     0            2  \n",
            "4            15        1             1     0            1  \n",
            "...         ...      ...           ...   ...          ...  \n",
            "1995         19        1             1     0            0  \n",
            "1996         16        1             1     1            2  \n",
            "1997          5        1             1     0            3  \n",
            "1998         19        1             1     1            0  \n",
            "1999          2        1             1     1            3  \n",
            "\n",
            "[2000 rows x 21 columns]\n"
          ]
        },
        {
          "output_type": "stream",
          "name": "stderr",
          "text": [
            "<ipython-input-23-ced5376101d5>:4: FutureWarning: A value is trying to be set on a copy of a DataFrame or Series through chained assignment using an inplace method.\n",
            "The behavior will change in pandas 3.0. This inplace method will never work because the intermediate object on which we are setting values always behaves as a copy.\n",
            "\n",
            "For example, when doing 'df[col].method(value, inplace=True)', try using 'df.method({col: value}, inplace=True)' or df[col] = df[col].method(value) instead, to perform the operation inplace on the original object.\n",
            "\n",
            "\n",
            "  data1[\"ram\"].fillna(median_ram, inplace=True)\n"
          ]
        }
      ]
    },
    {
      "cell_type": "markdown",
      "source": [
        "The discretization technique was applied to the \"ram\" attribute to simplify and improve the interpretation of continuous RAM values by dividing them into distinct categories. This method enhances the analysis and communication of the dataset’s findings. A new column was created to classify RAM into three groups: Low, Mid, and High. The Low category represents the lowest third of RAM values, the Mid category includes the middle third, and the High category encompasses the highest third. This process utilized the `qcut()` function to determine the quantiles for discretization, assigning the corresponding labels to each category.\n",
        "\n"
      ],
      "metadata": {
        "id": "ytsvkKeD2yWR"
      }
    },
    {
      "cell_type": "code",
      "source": [
        "data1 = pd.read_csv('after_discretiztion.csv')\n",
        "data1 = pd.DataFrame(data1)\n",
        "\n",
        "\n",
        "columns_to_normalize = ['battery_power',  'clock_speed',  'fc',\n",
        "       'int_memory', 'm_dep', 'mobile_wt', 'n_cores', 'pc', 'px_height',\n",
        "       'px_width', 'sc_h', 'sc_w', 'talk_time',\n",
        "       'price_range']\n",
        "\n",
        "\n",
        "for column in columns_to_normalize:\n",
        "    max_abs_value = data1[column].abs().max()\n",
        "    data1[column] = data1[column] / (10 ** len(str(int(max_abs_value))))\n",
        "\n",
        "print(\"DataFrame after Decimal Scaling Normalization:\")\n",
        "print(data1)\n",
        "data1.to_csv('normaliztion.csv', index=False)"
      ],
      "metadata": {
        "id": "tkxPMro9JzZL",
        "colab": {
          "base_uri": "https://localhost:8080/"
        },
        "outputId": "f09b2713-8e33-4b14-ca59-2538b7f811a9"
      },
      "execution_count": null,
      "outputs": [
        {
          "output_type": "stream",
          "name": "stdout",
          "text": [
            "DataFrame after Decimal Scaling Normalization:\n",
            "      battery_power  blue  clock_speed  dual_sim    fc  four_g  int_memory  \\\n",
            "0            0.0842     0         0.22         0  0.01       0        0.07   \n",
            "1            0.1021     1         0.05         1  0.00       1        0.53   \n",
            "2            0.0563     1         0.05         1  0.02       1        0.41   \n",
            "3            0.0615     1         0.25         0  0.00       0        0.10   \n",
            "4            0.1821     1         0.12         0  0.13       1        0.44   \n",
            "...             ...   ...          ...       ...   ...     ...         ...   \n",
            "1995         0.0794     1         0.05         1  0.00       1        0.02   \n",
            "1996         0.1965     1         0.26         1  0.00       0        0.39   \n",
            "1997         0.1911     0         0.09         1  0.01       1        0.36   \n",
            "1998         0.1512     0         0.09         0  0.04       1        0.46   \n",
            "1999         0.0510     1         0.20         1  0.05       1        0.45   \n",
            "\n",
            "      m_dep  mobile_wt  n_cores  ...  px_height  px_width   ram  sc_h  sc_w  \\\n",
            "0      0.06      0.188      0.2  ...     0.0020    0.0756   mid  0.09  0.07   \n",
            "1      0.07      0.136      0.3  ...     0.0905    0.1988   mid  0.17  0.03   \n",
            "2      0.09      0.145      0.5  ...     0.1263    0.1716   mid  0.11  0.02   \n",
            "3      0.08      0.131      0.6  ...     0.1216    0.1786  high  0.16  0.08   \n",
            "4      0.06      0.141      0.2  ...     0.1208    0.1212   low  0.08  0.02   \n",
            "...     ...        ...      ...  ...        ...       ...   ...   ...   ...   \n",
            "1995   0.08      0.106      0.6  ...     0.1222    0.1890   low  0.13  0.04   \n",
            "1996   0.02      0.187      0.4  ...     0.0915    0.1965   mid  0.11  0.10   \n",
            "1997   0.07      0.108      0.8  ...     0.0868    0.1632  high  0.09  0.01   \n",
            "1998   0.01      0.145      0.5  ...     0.0336    0.0670   low  0.18  0.10   \n",
            "1999   0.09      0.168      0.6  ...     0.0483    0.0754  high  0.19  0.04   \n",
            "\n",
            "      talk_time  three_g  touch_screen  wifi  price_range  \n",
            "0          0.19        1             0     1          0.1  \n",
            "1          0.07        1             1     0          0.2  \n",
            "2          0.09        1             1     0          0.2  \n",
            "3          0.11        1             0     0          0.2  \n",
            "4          0.15        1             1     0          0.1  \n",
            "...         ...      ...           ...   ...          ...  \n",
            "1995       0.19        1             1     0          0.0  \n",
            "1996       0.16        1             1     1          0.2  \n",
            "1997       0.05        1             1     0          0.3  \n",
            "1998       0.19        1             1     1          0.0  \n",
            "1999       0.02        1             1     1          0.3  \n",
            "\n",
            "[2000 rows x 21 columns]\n"
          ]
        }
      ]
    },
    {
      "cell_type": "markdown",
      "source": [
        "The code successfully normalizes specified numeric columns in the dataset using Decimal Scaling, adjusting their values to facilitate easier analysis. By dividing each column by a power of ten based on its maximum absolute value, the resulting data maintains its original relationships while being standardized. This normalization enhances the dataset's suitability for subsequent analysis and modeling, and the cleaned data is saved as 'normaliztion.csv' for future use."
      ],
      "metadata": {
        "id": "V_NfVUIE2Bb4"
      }
    },
    {
      "cell_type": "markdown",
      "source": [
        "**Feature selection:** is a process of selecting a subset of relevant features (or attributes) from the original set of features in a dataset. The goal of feature selection is to choose the most relevant and important features, thereby reducing dimensionality, and improving model performance."
      ],
      "metadata": {
        "id": "6dX15UXPfYYg"
      }
    },
    {
      "cell_type": "code",
      "source": [
        "import pandas as pd\n",
        "from sklearn.feature_selection import VarianceThreshold\n",
        "\n",
        "data = pd.read_csv('normaliztion.csv')\n",
        "\n",
        "binary_columns = ['dual_sim', 'four_g', 'three_g', 'touch_screen', 'wifi', 'blue']\n",
        "\n",
        "numeric_data = data.select_dtypes(include=['float64', 'int64'])\n",
        "X_for_variance = numeric_data.loc[:, ~numeric_data.columns.isin(binary_columns)]\n",
        "\n",
        "selector = VarianceThreshold(threshold=0.01)\n",
        "X_new = selector.fit_transform(X_for_variance)\n",
        "\n",
        "selected_features = X_for_variance.columns[selector.get_support()]\n",
        "print(\"Selected Features after Variance Threshold:\")\n",
        "print(selected_features)"
      ],
      "metadata": {
        "id": "3nvJqYEVXU3O",
        "colab": {
          "base_uri": "https://localhost:8080/"
        },
        "outputId": "a54388c5-7925-4361-ed38-a38da58447fe"
      },
      "execution_count": null,
      "outputs": [
        {
          "output_type": "stream",
          "name": "stdout",
          "text": [
            "Selected Features after Variance Threshold:\n",
            "Index(['int_memory', 'n_cores', 'price_range'], dtype='object')\n"
          ]
        }
      ]
    },
    {
      "cell_type": "markdown",
      "source": [
        "**we applied VarianceThreshold** with a threshold of 0.01 to select features with a variance above this value. After excluding binary columns such as ‘dual_sim’, ‘four_g’, ‘three_g’, ‘touch_screen’, ‘wifi’, and ‘blue’, the remaining features were filtered based on their variance. The selected features after applying the threshold were ‘int_memory’, ‘n_cores’, and ‘price_range’.\n",
        "\n",
        "This ensures that the features with the most variability were selected, while ignoring those with low variance, as they are less likely to contribute meaningful information to the model.\n"
      ],
      "metadata": {
        "id": "Rpwv6K5Dmzut"
      }
    },
    {
      "cell_type": "code",
      "source": [
        "import pandas as pd\n",
        "from sklearn.feature_selection import SelectKBest, f_classif\n",
        "\n",
        "\n",
        "data = pd.read_csv('normaliztion.csv')\n",
        "\n",
        "data['ram'] = data['ram'].replace({'low': 1, 'mid': 2, 'high': 3})\n",
        "\n",
        "X = data.select_dtypes(include=['float64', 'int64'])\n",
        "X['ram'] = data['ram']\n",
        "\n",
        "y = data['price_range']\n",
        "selector_kbest = SelectKBest(score_func=f_classif, k=2)\n",
        "X_new_kbest = selector_kbest.fit_transform(X, y)\n",
        "selected_features_kbest = X.columns[selector_kbest.get_support()]\n",
        "print(\"Selected Features after SelectKBest:\")\n",
        "print(selected_features_kbest)\n",
        "print(data.head())\n"
      ],
      "metadata": {
        "colab": {
          "base_uri": "https://localhost:8080/"
        },
        "id": "HBrTqDLlS085",
        "outputId": "13a7602d-8c0c-4d1a-9ff9-ae4a655bac8a"
      },
      "execution_count": null,
      "outputs": [
        {
          "output_type": "stream",
          "name": "stdout",
          "text": [
            "Selected Features after SelectKBest:\n",
            "Index(['battery_power', 'ram'], dtype='object')\n",
            "   battery_power  blue  clock_speed  dual_sim    fc  four_g  int_memory  \\\n",
            "0         0.0842     0         0.22         0  0.01       0        0.07   \n",
            "1         0.1021     1         0.05         1  0.00       1        0.53   \n",
            "2         0.0563     1         0.05         1  0.02       1        0.41   \n",
            "3         0.0615     1         0.25         0  0.00       0        0.10   \n",
            "4         0.1821     1         0.12         0  0.13       1        0.44   \n",
            "\n",
            "   m_dep  mobile_wt  n_cores  ...  px_height  px_width  ram  sc_h  sc_w  \\\n",
            "0   0.06      0.188      0.2  ...     0.0020    0.0756    2  0.09  0.07   \n",
            "1   0.07      0.136      0.3  ...     0.0905    0.1988    2  0.17  0.03   \n",
            "2   0.09      0.145      0.5  ...     0.1263    0.1716    2  0.11  0.02   \n",
            "3   0.08      0.131      0.6  ...     0.1216    0.1786    3  0.16  0.08   \n",
            "4   0.06      0.141      0.2  ...     0.1208    0.1212    1  0.08  0.02   \n",
            "\n",
            "   talk_time  three_g  touch_screen  wifi  price_range  \n",
            "0       0.19        1             0     1          0.1  \n",
            "1       0.07        1             1     0          0.2  \n",
            "2       0.09        1             1     0          0.2  \n",
            "3       0.11        1             0     0          0.2  \n",
            "4       0.15        1             1     0          0.1  \n",
            "\n",
            "[5 rows x 21 columns]\n"
          ]
        },
        {
          "output_type": "stream",
          "name": "stderr",
          "text": [
            "<ipython-input-27-6a144f92cb8a>:7: FutureWarning: Downcasting behavior in `replace` is deprecated and will be removed in a future version. To retain the old behavior, explicitly call `result.infer_objects(copy=False)`. To opt-in to the future behavior, set `pd.set_option('future.no_silent_downcasting', True)`\n",
            "  data['ram'] = data['ram'].replace({'low': 1, 'mid': 2, 'high': 3})\n",
            "/usr/local/lib/python3.10/dist-packages/sklearn/feature_selection/_univariate_selection.py:112: UserWarning: Features [17] are constant.\n",
            "  warnings.warn(\"Features %s are constant.\" % constant_features_idx, UserWarning)\n",
            "/usr/local/lib/python3.10/dist-packages/sklearn/feature_selection/_univariate_selection.py:113: RuntimeWarning: invalid value encountered in divide\n",
            "  f = msb / msw\n"
          ]
        }
      ]
    },
    {
      "cell_type": "markdown",
      "source": [
        "The result shows the selected features after applying the SelectKBest algorithm using the f_classif scoring function. The purpose is to identify the most influential features in predicting the target variable “price_range.”\n",
        "\n",
        "The selected features are:\n",
        "\n",
        " • battery_power: Battery capacity, which is a key factor in determining the price range.\n",
        "\n",
        "\n",
        " • ram: Random Access Memory, which is one of the most significant factors directly influencing the price range.\n",
        "\n",
        "These features represent the most impactful elements in predicting the price range based on their statistical importance as evaluated by the algorithm."
      ],
      "metadata": {
        "id": "MGRhC9pjn3tr"
      }
    }
  ]
}