{
 "cells": [
  {
   "cell_type": "markdown",
   "id": "4beb4a30-f6d2-49e1-91a5-727f6ca1d3b2",
   "metadata": {},
   "source": [
    "1- The goal of collecting this dataset is to classify and cluster to identify patterns based on their features to predict the mobile price, it will be in this range [0,1,2,3] (higher number mean the higher price).\n",
    "\n",
    "\n",
    "2- the source of dataset is kaggle : https://www.kaggle.com/datasets/iabhishekofficial/mobile-price-classification/data?select=train.csv|\n",
    "\n",
    "\n",
    "3- Informatiom about the dataset:\n",
    "\n",
    "Number of attributes:21\n",
    "\n",
    "\n",
    "Attribute types: Numeric,Binary\n",
    "\n",
    "\n",
    "Number of objects:2000\n",
    "\n",
    "\n",
    "Class Label: it is the price range, the price range may be 0 OR 1OR 2 OR 3 (higher number mean the higher price)based on the features.\n",
    "\n",
    "\n",
    "About this dataset:\n",
    "\n",
    "battery_power: The capacity of the phone's battery, typically measured in milliampere-hours (mAh).\n",
    "\n",
    "\n",
    "blue: Indicates whether the phone has Bluetooth connectivity (1 for yes, 0 for no).\n",
    "\n",
    "\n",
    "clock_speed: The speed of the phone’s processor, measured in GHz.\n",
    "\n",
    "\n",
    "dual_sim: Indicates if the phone supports two SIM cards (1 for yes, 0 for no).\n",
    "\n",
    "\n",
    "fc: The resolution of the phone’s front camera, measured in megapixels (MP).\n",
    "\n",
    "\n",
    "four_g: Indicates if the phone supports 4G connectivity (1 for yes, 0 for no).\n",
    "\n",
    "\n",
    "int_memory: The internal memory of the phone, measured in gigabytes (GB).\n",
    "\n",
    "\n",
    "m_dep: The depth of the phone, usually measured in millimeters (mm).\n",
    "\n",
    "\n",
    "mobile_wt: The weight of the phone, measured in grams (g).\n",
    "\n",
    "\n",
    "n_cores: The number of cores in the phone’s processor.\n",
    "\n",
    "\n",
    "pc: The resolution of the phone’s primary camera, measured in megapixels (MP).\n",
    "\n",
    "\n",
    "px_height: The height of the phone’s screen resolution, measured in pixels.\n",
    "\n",
    "\n",
    "px_width: The width of the phone’s screen resolution, measured in pixels.\n",
    "\n",
    "\n",
    "ram: The amount of RAM in the phone, measured in gigabytes (GB).\n",
    "\n",
    "\n",
    "sc_h: The height of the phone’s screen, measured in centimeters (cm).\n",
    "\n",
    "\n",
    "sc_w: The width of the phone’s screen, measured in centimeters (cm).\n",
    "\n",
    "\n",
    "talk_time: The amount of time the phone can be used for calls on a full charge, measured in hours.\n",
    "\n",
    "\n",
    "three_g: Indicates if the phone supports 3G connectivity (1 for yes, 0 for no).\n",
    "\n",
    "\n",
    "touch_screen: Indicates if the phone has a touch screen (1 for yes, 0 for no).\n",
    "\n",
    "\n",
    "wifi: Indicates if the phone supports Wi-Fi connectivity (1 for yes, 0 for no).\n",
    "\n",
    "\n",
    "price_range: The price category of the phone, typically divided into ranges such as 0,1,2,3\n",
    "\n",
    "\n"
   ]
  },
  {
   "cell_type": "code",
   "execution_count": 19,
   "id": "d98e4cc7-9d78-46e5-b361-7ccb80fcf1be",
   "metadata": {},
   "outputs": [],
   "source": [
    "import pandas as pd\n"
   ]
  },
  {
   "cell_type": "code",
   "execution_count": 4,
   "id": "bb136119-5042-4e4d-a964-8f56ced9526a",
   "metadata": {},
   "outputs": [],
   "source": [
    "data= pd.read_csv('./Dataset/Mobile_data.csv')\n",
    "df=pd.DataFrame(data)"
   ]
  },
  {
   "cell_type": "code",
   "execution_count": 6,
   "id": "3e4b62d7-d948-471c-99c7-19ba36e0b1a7",
   "metadata": {},
   "outputs": [
    {
     "data": {
      "text/plain": [
       "Index(['battery_power', 'blue', 'clock_speed', 'dual_sim', 'fc', 'four_g',\n",
       "       'int_memory', 'm_dep', 'mobile_wt', 'n_cores', 'pc', 'px_height',\n",
       "       'px_width', 'ram', 'sc_h', 'sc_w', 'talk_time', 'three_g',\n",
       "       'touch_screen', 'wifi', 'price_range'],\n",
       "      dtype='object')"
      ]
     },
     "execution_count": 6,
     "metadata": {},
     "output_type": "execute_result"
    }
   ],
   "source": [
    "df.columns"
   ]
  },
  {
   "cell_type": "code",
   "execution_count": 8,
   "id": "6c817c21-15e0-472a-a959-a2e3ad92dc44",
   "metadata": {},
   "outputs": [
    {
     "name": "stdout",
     "output_type": "stream",
     "text": [
      "Number of attributes: 21\n"
     ]
    }
   ],
   "source": [
    "print(\"Number of attributes: \" + str(len(df.columns)))"
   ]
  },
  {
   "cell_type": "code",
   "execution_count": 10,
   "id": "ab9861ac-cc8e-42f5-b128-3bedccb34a4f",
   "metadata": {},
   "outputs": [
    {
     "name": "stdout",
     "output_type": "stream",
     "text": [
      " Attribute types:\n",
      "<class 'pandas.core.frame.DataFrame'>\n",
      "RangeIndex: 2000 entries, 0 to 1999\n",
      "Data columns (total 21 columns):\n",
      " #   Column         Non-Null Count  Dtype  \n",
      "---  ------         --------------  -----  \n",
      " 0   battery_power  2000 non-null   int64  \n",
      " 1   blue           2000 non-null   int64  \n",
      " 2   clock_speed    2000 non-null   float64\n",
      " 3   dual_sim       2000 non-null   int64  \n",
      " 4   fc             2000 non-null   int64  \n",
      " 5   four_g         2000 non-null   int64  \n",
      " 6   int_memory     2000 non-null   int64  \n",
      " 7   m_dep          2000 non-null   float64\n",
      " 8   mobile_wt      2000 non-null   int64  \n",
      " 9   n_cores        2000 non-null   int64  \n",
      " 10  pc             2000 non-null   int64  \n",
      " 11  px_height      2000 non-null   int64  \n",
      " 12  px_width       2000 non-null   int64  \n",
      " 13  ram            2000 non-null   int64  \n",
      " 14  sc_h           2000 non-null   int64  \n",
      " 15  sc_w           2000 non-null   int64  \n",
      " 16  talk_time      2000 non-null   int64  \n",
      " 17  three_g        2000 non-null   int64  \n",
      " 18  touch_screen   2000 non-null   int64  \n",
      " 19  wifi           2000 non-null   int64  \n",
      " 20  price_range    2000 non-null   int64  \n",
      "dtypes: float64(2), int64(19)\n",
      "memory usage: 328.3 KB\n"
     ]
    }
   ],
   "source": [
    "print(\" Attribute types:\")\n",
    "df.info( verbose =True)\n"
   ]
  },
  {
   "cell_type": "code",
   "execution_count": 12,
   "id": "d491f1c1-27fc-4959-8cbb-4f6d80b2c4e8",
   "metadata": {},
   "outputs": [
    {
     "name": "stdout",
     "output_type": "stream",
     "text": [
      "Number of objects :2000\n"
     ]
    }
   ],
   "source": [
    "print(\"Number of objects :\" + str( len(df)))"
   ]
  },
  {
   "cell_type": "code",
   "execution_count": 14,
   "id": "a2323062-de3a-423c-a995-2c4d9b2dd4ef",
   "metadata": {},
   "outputs": [
    {
     "data": {
      "text/plain": [
       "array([1, 2, 3, 0])"
      ]
     },
     "execution_count": 14,
     "metadata": {},
     "output_type": "execute_result"
    }
   ],
   "source": [
    "## class Name is price range (price range indicating how high the price is)\n",
    "df['price_range'].unique()\n"
   ]
  }
 ],
 "metadata": {
  "kernelspec": {
   "display_name": "Python 3 (ipykernel)",
   "language": "python",
   "name": "python3"
  },
  "language_info": {
   "codemirror_mode": {
    "name": "ipython",
    "version": 3
   },
   "file_extension": ".py",
   "mimetype": "text/x-python",
   "name": "python",
   "nbconvert_exporter": "python",
   "pygments_lexer": "ipython3",
   "version": "3.12.4"
  }
 },
 "nbformat": 4,
 "nbformat_minor": 5
}
